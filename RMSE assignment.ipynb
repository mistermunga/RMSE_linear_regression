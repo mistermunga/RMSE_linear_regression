{
 "cells": [
  {
   "cell_type": "code",
   "id": "initial_id",
   "metadata": {
    "collapsed": true,
    "ExecuteTime": {
     "end_time": "2024-08-01T10:34:07.869340Z",
     "start_time": "2024-08-01T10:34:07.859799Z"
    }
   },
   "source": [
    "# 50 50\n",
    "# 80 20\n",
    "# 90 10\n",
    "# 75 25\n",
    "\n",
    "# train - test\n",
    "\n",
    "# root mean square\n",
    "# root mean square error"
   ],
   "outputs": [],
   "execution_count": 7
  },
  {
   "metadata": {
    "ExecuteTime": {
     "end_time": "2024-08-01T10:34:07.884592Z",
     "start_time": "2024-08-01T10:34:07.875215Z"
    }
   },
   "cell_type": "code",
   "source": [
    "import pandas as pd\n",
    "\n",
    "nyc = pd.read_csv(r\"C:\\Users\\Ryan\\Desktop\\summer 24\\AI\\datasetstuff\\linear regression\\ave_hi_nyc_jan_1895-2018.csv\", header='infer')"
   ],
   "id": "e680e9549acb1849",
   "outputs": [],
   "execution_count": 8
  },
  {
   "metadata": {
    "ExecuteTime": {
     "end_time": "2024-08-01T10:34:07.900400Z",
     "start_time": "2024-08-01T10:34:07.887873Z"
    }
   },
   "cell_type": "code",
   "source": [
    "nyc['Date'] = nyc.Date.floordiv(100).astype(int)\n",
    "nyc.columns = ['Date', 'Temp', 'Anomaly']"
   ],
   "id": "24676035b9648e3d",
   "outputs": [],
   "execution_count": 9
  },
  {
   "metadata": {
    "ExecuteTime": {
     "end_time": "2024-08-01T10:34:07.916013Z",
     "start_time": "2024-08-01T10:34:07.904398Z"
    }
   },
   "cell_type": "code",
   "source": [
    "from sklearn.linear_model import LinearRegression\n",
    "from sklearn.model_selection import train_test_split\n",
    "from math import sqrt\n",
    "from sklearn.metrics import mean_squared_error"
   ],
   "id": "6ea87f6f952a000f",
   "outputs": [],
   "execution_count": 10
  },
  {
   "metadata": {
    "ExecuteTime": {
     "end_time": "2024-08-01T10:34:07.963219Z",
     "start_time": "2024-08-01T10:34:07.935225Z"
    }
   },
   "cell_type": "code",
   "source": [
    "linreg = LinearRegression()\n",
    "splits = [0.5, 0.25, 0.2, 0.1]\n",
    "root_errors = []\n",
    "\n",
    "for split in splits:\n",
    "    X_train, X_test, y_train, y_test= train_test_split(nyc.Date.values.reshape(-1,1), nyc.Temp.values.reshape(-1,1), test_size=split)\n",
    "    linreg.fit(X_train, y_train)\n",
    "    predictions = linreg.predict(X_test)\n",
    "    mse = mean_squared_error(y_test, predictions)\n",
    "    root_errors.append(sqrt(mse))"
   ],
   "id": "33b58844d086f2a2",
   "outputs": [],
   "execution_count": 11
  },
  {
   "metadata": {
    "ExecuteTime": {
     "end_time": "2024-08-01T10:34:07.994566Z",
     "start_time": "2024-08-01T10:34:07.966464Z"
    }
   },
   "cell_type": "code",
   "source": "root_errors",
   "id": "1e7421b9e98d2d35",
   "outputs": [
    {
     "data": {
      "text/plain": [
       "[4.526052894144993, 4.609272025553175, 4.955443524002116, 5.262194755599667]"
      ]
     },
     "execution_count": 12,
     "metadata": {},
     "output_type": "execute_result"
    }
   ],
   "execution_count": 12
  },
  {
   "metadata": {
    "ExecuteTime": {
     "end_time": "2024-08-01T10:36:20.355184Z",
     "start_time": "2024-08-01T10:36:20.343978Z"
    }
   },
   "cell_type": "code",
   "source": [
    "import prettytable\n",
    "\n",
    "table = prettytable.PrettyTable(['Test Size Split', 'Root Mean Square Error'])\n",
    "\n",
    "for i in range(len(splits)):\n",
    "    table.add_row([splits[i], root_errors[i]])\n",
    "    \n",
    "print(table)"
   ],
   "id": "91199dc64968bc14",
   "outputs": [
    {
     "name": "stdout",
     "output_type": "stream",
     "text": [
      "+-----------------+------------------------+\n",
      "| Test Size Split | Root Mean Square Error |\n",
      "+-----------------+------------------------+\n",
      "|       0.5       |   4.526052894144993    |\n",
      "|       0.25      |   4.609272025553175    |\n",
      "|       0.2       |   4.955443524002116    |\n",
      "|       0.1       |   5.262194755599667    |\n",
      "+-----------------+------------------------+\n"
     ]
    }
   ],
   "execution_count": 15
  },
  {
   "metadata": {},
   "cell_type": "code",
   "outputs": [],
   "execution_count": null,
   "source": [
    "# Effect of Training Set Size on Model Accuracy:\n",
    "# As the size of the training set decreases (i.e., the test set size increases), the root mean square error (RMSE) generally increases. This is evident from the root_errors list:\n",
    "        # Test size 0.5 (50% of data): RMSE = 4.526\n",
    "        # Test size 0.25 (25% of data): RMSE = 4.609\n",
    "        # Test size 0.2 (20% of data): RMSE = 4.955\n",
    "        # Test size 0.1 (10% of data): RMSE = 5.262\n",
    "# This trend indicates that the model performs better (lower RMSE) with a larger training set. \n",
    "# Conversely, the performance worsens (higher RMSE) as the training set becomes smaller.\n",
    "\n",
    "# Model Sensitivity to Training Data:\n",
    "# The increase in RMSE suggests that the linear regression model is sensitive to the amount of training data. With more training data, the model can learn more effectively, resulting in more accurate predictions on the test set.\n",
    "\n",
    "# Data Sufficiency for Model Training:\n",
    "# The differences in RMSE across different splits show the importance of having sufficient training data. When the training set is smaller (e.g., 10% of data for training), the model may not capture the underlying patterns as well, leading to higher prediction errors."
   ],
   "id": "13837a8cff2f6287"
  }
 ],
 "metadata": {
  "kernelspec": {
   "display_name": "Python 3",
   "language": "python",
   "name": "python3"
  },
  "language_info": {
   "codemirror_mode": {
    "name": "ipython",
    "version": 2
   },
   "file_extension": ".py",
   "mimetype": "text/x-python",
   "name": "python",
   "nbconvert_exporter": "python",
   "pygments_lexer": "ipython2",
   "version": "2.7.6"
  }
 },
 "nbformat": 4,
 "nbformat_minor": 5
}
